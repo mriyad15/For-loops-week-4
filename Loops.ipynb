{
 "cells": [
  {
   "cell_type": "code",
   "execution_count": 4,
   "metadata": {},
   "outputs": [
    {
     "name": "stdout",
     "output_type": "stream",
     "text": [
      "4\n",
      "13\n",
      "9\n",
      "10\n",
      "132\n",
      "34\n",
      "40\n",
      "78\n",
      "66\n",
      "44\n",
      "33\n",
      "111\n",
      "176\n",
      "45\n",
      "90\n",
      "91\n",
      "99\n",
      "97\n",
      "95\n",
      "93\n",
      "93\n",
      "93\n",
      "101\n",
      "101\n",
      "105\n",
      "107\n"
     ]
    }
   ],
   "source": [
    "my_lists = [4,13,9,10,132,34,40,78,66,44,33,111,176,45,90,91,99,97,95,93,93,93,101,101,105,107]\n",
    "for i in my_lists:\n",
    "    print(i)"
   ]
  },
  {
   "cell_type": "code",
   "execution_count": 20,
   "metadata": {},
   "outputs": [
    {
     "name": "stdout",
     "output_type": "stream",
     "text": [
      "13\n",
      "9\n",
      "33\n",
      "111\n",
      "45\n",
      "91\n",
      "99\n",
      "97\n",
      "95\n",
      "93\n",
      "93\n",
      "93\n",
      "101\n",
      "101\n",
      "105\n",
      "107\n"
     ]
    }
   ],
   "source": [
    "for i in my_lists:\n",
    "    if (i % 2!= 0):\n",
    "        print(i)\n",
    "    \n",
    "    "
   ]
  },
  {
   "cell_type": "code",
   "execution_count": 21,
   "metadata": {},
   "outputs": [
    {
     "name": "stdout",
     "output_type": "stream",
     "text": [
      "4\n",
      "10\n",
      "132\n",
      "34\n",
      "40\n",
      "78\n",
      "66\n",
      "44\n",
      "176\n",
      "90\n"
     ]
    }
   ],
   "source": [
    "for i in my_lists:\n",
    "    if (i % 2 == 0):\n",
    "        print(i)"
   ]
  },
  {
   "cell_type": "code",
   "execution_count": 34,
   "metadata": {},
   "outputs": [],
   "source": [
    "s,t=[7,10]\n",
    "a=4\n",
    "b=12\n",
    "m=3\n",
    "n=4\n",
    "d_m=[1,2,4]\n",
    "d_n=[-5,-8,6,10]"
   ]
  },
  {
   "cell_type": "code",
   "execution_count": 37,
   "metadata": {},
   "outputs": [
    {
     "name": "stdout",
     "output_type": "stream",
     "text": [
      "1 1\n"
     ]
    }
   ],
   "source": [
    "apple_landed= 0\n",
    "orange_landed= 0\n",
    "for i in d_m:\n",
    "    if i+ a>= 7 and i+ a <=10:\n",
    "        apple_landed += 1\n",
    "for j in d_n:\n",
    "    if j+ b>=7 and j+ b <=10:\n",
    "        orange_landed +=1\n",
    "print(apple_landed,orange_landed)"
   ]
  },
  {
   "cell_type": "code",
   "execution_count": 18,
   "metadata": {},
   "outputs": [
    {
     "name": "stdout",
     "output_type": "stream",
     "text": [
      "black\n",
      "white\n",
      "green\n",
      "purple\n"
     ]
    }
   ],
   "source": [
    "color = [\"black\", \"white\", \"green\", \"purple\"]\n",
    "for x in color:\n",
    "    print(x)"
   ]
  },
  {
   "cell_type": "code",
   "execution_count": 19,
   "metadata": {},
   "outputs": [
    {
     "name": "stdout",
     "output_type": "stream",
     "text": [
      "b\n",
      "l\n",
      "a\n",
      "c\n",
      "k\n"
     ]
    }
   ],
   "source": [
    "for x in \"black\":\n",
    "    print(x)"
   ]
  },
  {
   "cell_type": "code",
   "execution_count": 29,
   "metadata": {},
   "outputs": [
    {
     "name": "stdout",
     "output_type": "stream",
     "text": [
      "w\n",
      "h\n",
      "i\n",
      "t\n",
      "e\n"
     ]
    }
   ],
   "source": [
    "for x in \"white\":\n",
    "    print(x)"
   ]
  },
  {
   "cell_type": "code",
   "execution_count": 30,
   "metadata": {},
   "outputs": [
    {
     "name": "stdout",
     "output_type": "stream",
     "text": [
      "black\n"
     ]
    }
   ],
   "source": [
    "color = [\"black\", \"white\", \"green\", \"purple\"]\n",
    "for x in color:\n",
    "    print(x)\n",
    "    if x == \"black\":\n",
    "        break"
   ]
  },
  {
   "cell_type": "code",
   "execution_count": 40,
   "metadata": {},
   "outputs": [],
   "source": [
    "color = [\"black\", \"white\", \"green\", \"purple\"]\n",
    "for x in color:\n",
    "       if x == \"black\":\n",
    "        break\n",
    "        print(x)"
   ]
  },
  {
   "cell_type": "code",
   "execution_count": 41,
   "metadata": {},
   "outputs": [],
   "source": [
    "color = [\"black\", \"white\", \"green\", \"purple\"]\n",
    "for x in color:\n",
    "       if x == \"black\":\n",
    "        continue\n",
    "        print(x)"
   ]
  },
  {
   "cell_type": "code",
   "execution_count": 39,
   "metadata": {},
   "outputs": [
    {
     "name": "stdout",
     "output_type": "stream",
     "text": [
      "2\n",
      "11\n",
      "20\n",
      "29\n",
      "38\n",
      "47\n",
      "56\n",
      "65\n",
      "74\n",
      "83\n",
      "92\n"
     ]
    }
   ],
   "source": [
    "for x in range (2,100,9):\n",
    "    print(x)"
   ]
  },
  {
   "cell_type": "code",
   "execution_count": 38,
   "metadata": {},
   "outputs": [
    {
     "name": "stdout",
     "output_type": "stream",
     "text": [
      "0\n",
      "1\n",
      "2\n",
      "3\n",
      "4\n",
      "5\n",
      "6\n",
      "7\n",
      "8\n",
      "9\n",
      "finally finished!\n"
     ]
    }
   ],
   "source": [
    "for x in range(10):\n",
    "    print(x)\n",
    "else:\n",
    "    print(\"finally finished!\")\n"
   ]
  },
  {
   "cell_type": "code",
   "execution_count": 28,
   "metadata": {},
   "outputs": [
    {
     "name": "stdout",
     "output_type": "stream",
     "text": [
      "fav black\n",
      "fav white\n",
      "fav green\n",
      "fav purple\n",
      "ok black\n",
      "ok white\n",
      "ok green\n",
      "ok purple\n",
      "flag black\n",
      "flag white\n",
      "flag green\n",
      "flag purple\n",
      "ladies black\n",
      "ladies white\n",
      "ladies green\n",
      "ladies purple\n"
     ]
    }
   ],
   "source": [
    "adj= [\"fav\", \"ok\", \"flag\", \"ladies\"]\n",
    "color = [\"black\", \"white\", \"green\", \"purple\"]\n",
    "\n",
    "for x in adj:\n",
    "    for y in color:\n",
    "        print(x,y)"
   ]
  },
  {
   "cell_type": "code",
   "execution_count": null,
   "metadata": {},
   "outputs": [],
   "source": []
  }
 ],
 "metadata": {
  "kernelspec": {
   "display_name": "Python 3",
   "language": "python",
   "name": "python3"
  },
  "language_info": {
   "codemirror_mode": {
    "name": "ipython",
    "version": 3
   },
   "file_extension": ".py",
   "mimetype": "text/x-python",
   "name": "python",
   "nbconvert_exporter": "python",
   "pygments_lexer": "ipython3",
   "version": "3.8.3"
  }
 },
 "nbformat": 4,
 "nbformat_minor": 4
}
